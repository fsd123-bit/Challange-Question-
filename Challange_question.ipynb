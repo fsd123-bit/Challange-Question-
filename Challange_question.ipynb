{
  "nbformat": 4,
  "nbformat_minor": 0,
  "metadata": {
    "colab": {
      "provenance": []
    },
    "kernelspec": {
      "name": "python3",
      "display_name": "Python 3"
    },
    "language_info": {
      "name": "python"
    }
  },
  "cells": [
    {
      "cell_type": "code",
      "execution_count": 1,
      "metadata": {
        "colab": {
          "base_uri": "https://localhost:8080/"
        },
        "id": "seo1jI9jRdhl",
        "outputId": "e4c26b0d-96e9-47c1-96a7-7c9f233e1f9f"
      },
      "outputs": [
        {
          "output_type": "stream",
          "name": "stdout",
          "text": [
            "Original List: ['Ram', 1, 'Shyam', 2, 'Aman', 3]\n",
            "Sorted List: ['Aman', 1, 'Ram', 2, 'Shyam', 3]\n"
          ]
        }
      ],
      "source": [
        "# Sorting a heterogeneous list of integers and strings separately\n",
        "\n",
        "def sort_heterogeneous(lst):\n",
        "    # Separate by type\n",
        "    strings = sorted([x for x in lst if isinstance(x, str)])\n",
        "    numbers = sorted([x for x in lst if isinstance(x, int)])\n",
        "\n",
        "    # Merge alternately if needed (or just concatenate)\n",
        "    merged = []\n",
        "    for i in range(max(len(strings), len(numbers))):\n",
        "        if i < len(strings):\n",
        "            merged.append(strings[i])\n",
        "        if i < len(numbers):\n",
        "            merged.append(numbers[i])\n",
        "    return merged\n",
        "\n",
        "# Example list\n",
        "L = [\"Ram\", 1, \"Shyam\", 2, \"Aman\", 3]\n",
        "print(\"Original List:\", L)\n",
        "sorted_L = sort_heterogeneous(L)\n",
        "print(\"Sorted List:\", sorted_L)\n"
      ]
    },
    {
      "cell_type": "code",
      "source": [],
      "metadata": {
        "id": "kTvnyBTLRe7V"
      },
      "execution_count": null,
      "outputs": []
    }
  ]
}